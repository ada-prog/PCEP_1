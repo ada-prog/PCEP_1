{
 "cells": [
  {
   "cell_type": "markdown",
   "metadata": {},
   "source": [
    "### Strings"
   ]
  },
  {
   "cell_type": "code",
   "execution_count": 1,
   "metadata": {},
   "outputs": [],
   "source": [
    "first_name = \"Cookie\"\n",
    "last_name = \"Monster\"\n"
   ]
  },
  {
   "cell_type": "code",
   "execution_count": 2,
   "metadata": {},
   "outputs": [
    {
     "name": "stdout",
     "output_type": "stream",
     "text": [
      "CookieMonster\n"
     ]
    }
   ],
   "source": [
    "print(first_name + last_name)"
   ]
  },
  {
   "cell_type": "code",
   "execution_count": 3,
   "metadata": {},
   "outputs": [
    {
     "data": {
      "text/plain": [
       "'e'"
      ]
     },
     "execution_count": 3,
     "metadata": {},
     "output_type": "execute_result"
    }
   ],
   "source": [
    "first_name[-1]"
   ]
  },
  {
   "cell_type": "code",
   "execution_count": 4,
   "metadata": {},
   "outputs": [
    {
     "name": "stdout",
     "output_type": "stream",
     "text": [
      "  Learn To Code In Python \n",
      "  learn to code in python \n"
     ]
    }
   ],
   "source": [
    "# title() method returns a string with the first character in upper case for every word in the string\n",
    "\n",
    "message = \"  learn to code in python \"\n",
    "print(message.title())\n",
    "print(message)"
   ]
  },
  {
   "cell_type": "code",
   "execution_count": 5,
   "metadata": {},
   "outputs": [
    {
     "name": "stdout",
     "output_type": "stream",
     "text": [
      "  LEARN TO CODE IN PYTHON \n",
      "  learn to code in python \n"
     ]
    }
   ],
   "source": [
    "# upper() method returns a string in all upper cases\n",
    "\n",
    "message = \"  learn to code in python \"\n",
    "msg = message.upper()\n",
    "print(msg)\n",
    "print(message)"
   ]
  },
  {
   "cell_type": "code",
   "execution_count": null,
   "metadata": {},
   "outputs": [],
   "source": [
    "print(msg)\n",
    "print(msg.lower())"
   ]
  },
  {
   "cell_type": "code",
   "execution_count": null,
   "metadata": {},
   "outputs": [],
   "source": [
    "# strip() method returns a string after removing all leading and following blanks in the string\n",
    "\n",
    "message = \"  learn to code in python \"\n",
    "print(message.strip())\n",
    "print(message)"
   ]
  },
  {
   "cell_type": "code",
   "execution_count": null,
   "metadata": {},
   "outputs": [],
   "source": [
    "# lstrip() method returns a string after removing all leading blanks in the string\n",
    "\n",
    "message = \"  learn to code in python \"\n",
    "print(message.lstrip())\n",
    "print(message)"
   ]
  },
  {
   "cell_type": "code",
   "execution_count": null,
   "metadata": {},
   "outputs": [],
   "source": [
    "# rstrip() method returns a string after removing all following blanks in the string\n",
    "\n",
    "message = \"  learn to code in python        \"\n",
    "print(message.rstrip())\n",
    "print(message)"
   ]
  },
  {
   "cell_type": "code",
   "execution_count": null,
   "metadata": {},
   "outputs": [],
   "source": [
    "# replace() method returns a string with old substring replaced with new substring\n",
    "\n",
    "message = \"  learn to code in python        \"\n",
    "print(message.replace(' ', '*'))\n",
    "print(message)"
   ]
  },
  {
   "cell_type": "code",
   "execution_count": null,
   "metadata": {},
   "outputs": [],
   "source": [
    "# capitalize() method returns a string with the first character in upper case\n",
    "\n",
    "message = \"learn to code\"\n",
    "print(message)\n",
    "print(message.capitalize())"
   ]
  },
  {
   "cell_type": "code",
   "execution_count": null,
   "metadata": {},
   "outputs": [],
   "source": [
    "# what is happening?\n",
    "\n",
    "message = \" learn to code\"\n",
    "print(message)\n",
    "print(message.capitalize())"
   ]
  },
  {
   "cell_type": "code",
   "execution_count": null,
   "metadata": {},
   "outputs": [],
   "source": [
    "\"python\".capitalize()"
   ]
  },
  {
   "cell_type": "code",
   "execution_count": null,
   "metadata": {},
   "outputs": [],
   "source": [
    "# center() method returns a centered string\n",
    "\n",
    "\n",
    "message = \"yeah\"\n",
    "print(message)\n",
    "print(message.center(20))"
   ]
  },
  {
   "cell_type": "code",
   "execution_count": null,
   "metadata": {},
   "outputs": [],
   "source": [
    "# count() method returns the occurences of the substring in the given string\n",
    "\n",
    "message = \"  learn to code in python \"\n",
    "print(\">>>\"+message+\"<<<\")\n",
    "message.count(\"to\")"
   ]
  },
  {
   "cell_type": "code",
   "execution_count": null,
   "metadata": {},
   "outputs": [],
   "source": [
    "message.count(\" \")"
   ]
  },
  {
   "cell_type": "code",
   "execution_count": null,
   "metadata": {},
   "outputs": [],
   "source": [
    "message.count(\"Code\")"
   ]
  },
  {
   "cell_type": "code",
   "execution_count": null,
   "metadata": {},
   "outputs": [],
   "source": [
    "message = \"I love Python!\"\n",
    "print(message)\n",
    "print(message[5])"
   ]
  },
  {
   "cell_type": "code",
   "execution_count": null,
   "metadata": {},
   "outputs": [],
   "source": [
    "message[-5]"
   ]
  },
  {
   "cell_type": "code",
   "execution_count": null,
   "metadata": {},
   "outputs": [],
   "source": [
    "message[20]"
   ]
  },
  {
   "cell_type": "code",
   "execution_count": null,
   "metadata": {},
   "outputs": [],
   "source": [
    "# len() function returns the number of items in an object\n",
    "\n",
    "\n",
    "len(message)"
   ]
  },
  {
   "cell_type": "code",
   "execution_count": null,
   "metadata": {},
   "outputs": [],
   "source": [
    "len(\"\")"
   ]
  },
  {
   "cell_type": "code",
   "execution_count": null,
   "metadata": {},
   "outputs": [],
   "source": [
    "len(\"99.99\")"
   ]
  },
  {
   "cell_type": "code",
   "execution_count": null,
   "metadata": {},
   "outputs": [],
   "source": [
    "len(\"\\'\")"
   ]
  },
  {
   "cell_type": "code",
   "execution_count": null,
   "metadata": {},
   "outputs": [],
   "source": [
    "len(123.56789)"
   ]
  },
  {
   "cell_type": "markdown",
   "metadata": {},
   "source": [
    "### Exercise 1\n",
    "Write a program to right-justify text where the maximum number of characters per line is 50."
   ]
  },
  {
   "cell_type": "code",
   "execution_count": 8,
   "metadata": {},
   "outputs": [],
   "source": [
    "line1 = \"   beautiful is better than ugly.   \""
   ]
  },
  {
   "cell_type": "code",
   "execution_count": 7,
   "metadata": {},
   "outputs": [
    {
     "name": "stdout",
     "output_type": "stream",
     "text": [
      "12345678901234567890123456789012345678901234567890\n",
      "\n"
     ]
    }
   ],
   "source": [
    "# fix any errors\n",
    "\n",
    "MAXCHAR = 50\n",
    "# Write \n",
    "\n",
    "\n",
    "\n",
    "no_char = len(line1)            # returns a number of charcters in line \n",
    "\n",
    "# find the number of blanks to fill the line\n",
    "no_blank = no_char - MAXCHAR\n",
    "\n",
    "\n",
    "\n",
    "# fill the leading blanks\n",
    "result = \"--\" * no_blank \n",
    "\n",
    "# concatenate the text to leading blanks\n",
    "\n",
    "\n",
    "\n",
    "# print out\n",
    "print(\"1234567890\"*5)\n",
    "print(result)"
   ]
  },
  {
   "cell_type": "code",
   "execution_count": 6,
   "metadata": {},
   "outputs": [
    {
     "name": "stdout",
     "output_type": "stream",
     "text": [
      "12345678901234567890123456789012345678901234567890\n",
      "                    beautiful is better than ugly.\n"
     ]
    }
   ],
   "source": [
    "MAXCHAR = 50\n",
    "line = line1.strip()\n",
    "no_char = len(line)            # returns a number of charcters in line \n",
    "no_blanks = MAXCHAR - no_char\n",
    "\n",
    "result = \" \" * no_blanks\n",
    "result += line  # result = result + line\n",
    "\n",
    "print(\"1234567890\"*5)\n",
    "print(result)"
   ]
  },
  {
   "cell_type": "code",
   "execution_count": null,
   "metadata": {},
   "outputs": [],
   "source": []
  },
  {
   "cell_type": "markdown",
   "metadata": {},
   "source": [
    "### Formatted String\n",
    "    {}  : a place holder\n",
    "    ,   : shows commas in thousands place\n",
    "    .2f : shows 2 digits after the decimal point\n",
    "    .2% : shows 2 digits after the decimal point in percentage (%)"
   ]
  },
  {
   "cell_type": "code",
   "execution_count": 9,
   "metadata": {},
   "outputs": [
    {
     "name": "stdout",
     "output_type": "stream",
     "text": [
      "I love Python\n",
      "I love {name}\n"
     ]
    }
   ],
   "source": [
    "message = \"I love {name}\"\n",
    "print(message.format(name = \"Python\"))\n",
    "print(message)"
   ]
  },
  {
   "cell_type": "code",
   "execution_count": 10,
   "metadata": {},
   "outputs": [
    {
     "name": "stdout",
     "output_type": "stream",
     "text": [
      "I love Python\n",
      "I love Python\n"
     ]
    }
   ],
   "source": [
    "print(\"I love {0}\".format(\"Python\"))\n",
    "print(\"I love {}\".format(\"Python\"))"
   ]
  },
  {
   "cell_type": "code",
   "execution_count": null,
   "metadata": {},
   "outputs": [],
   "source": [
    "print(\"I love {} and {}\".format(\"to eat\", \"drink\"))"
   ]
  },
  {
   "cell_type": "code",
   "execution_count": null,
   "metadata": {},
   "outputs": [],
   "source": [
    "print(\"I love {one} and {two}\".format(two=\"drink\", one=\"to eat\"))"
   ]
  },
  {
   "cell_type": "code",
   "execution_count": null,
   "metadata": {},
   "outputs": [],
   "source": [
    "msg = \"My name is {fname}.\".format(fname=\"Elmo\")\n",
    "print(msg)\n"
   ]
  },
  {
   "cell_type": "code",
   "execution_count": null,
   "metadata": {},
   "outputs": [],
   "source": [
    "msg = \"Your name is {fname} and you are {age}.\".format(fname=\"Big Bird\", age=5)\n",
    "print(msg)"
   ]
  },
  {
   "cell_type": "code",
   "execution_count": null,
   "metadata": {},
   "outputs": [],
   "source": [
    "msg = \"Your name is {0} and you are {1}.\".format(\"Count Von Count\", 999)\n",
    "print(msg)"
   ]
  },
  {
   "cell_type": "code",
   "execution_count": null,
   "metadata": {},
   "outputs": [],
   "source": [
    "msg = \"Your name is {} and you are {}.\".format(\"Cookie Monster\", 9)\n",
    "print(msg)"
   ]
  },
  {
   "cell_type": "code",
   "execution_count": null,
   "metadata": {},
   "outputs": [],
   "source": [
    "# :f for fixed point number, default with 6 decimals\n",
    "\n",
    "price = 9.99\n",
    "msg = \"The price is ${:f}\"\n",
    "print(msg.format(price))"
   ]
  },
  {
   "cell_type": "code",
   "execution_count": null,
   "metadata": {},
   "outputs": [],
   "source": [
    "# :.2f for fixed point number, use a period followed by a number to specify the number of decimals\n",
    "\n",
    "msg = \"The price is ${:.2f}\"\n",
    "print(msg.format(price))"
   ]
  },
  {
   "cell_type": "code",
   "execution_count": null,
   "metadata": {},
   "outputs": [],
   "source": [
    "# :.2f for fixed point number, use a period followed by a number to specify the number of decimals\n",
    "\n",
    "msg = \"The price is ${:.1f}\"\n",
    "print(msg.format(price))"
   ]
  },
  {
   "cell_type": "code",
   "execution_count": null,
   "metadata": {},
   "outputs": [],
   "source": [
    "# :, to display comma as a thousand separator\n",
    "\n",
    "msg = \"Total price is ${:,}\"\n",
    "print(msg.format(price*10000))"
   ]
  },
  {
   "cell_type": "code",
   "execution_count": null,
   "metadata": {},
   "outputs": [],
   "source": [
    "msg = \"Total price is ${:,.2f}\"\n",
    "print(msg.format(price*10000))"
   ]
  },
  {
   "cell_type": "code",
   "execution_count": null,
   "metadata": {},
   "outputs": [],
   "source": [
    "msg = \"Current interest rate is {:%}\"\n",
    "print(msg.format(0.0516))"
   ]
  },
  {
   "cell_type": "code",
   "execution_count": null,
   "metadata": {},
   "outputs": [],
   "source": [
    "msg = \"Current interest rate is {:.2%}\"\n",
    "print(msg.format(0.0516))"
   ]
  },
  {
   "cell_type": "code",
   "execution_count": null,
   "metadata": {},
   "outputs": [],
   "source": [
    "msg = \"Current interest rate is {:.1%}\"\n",
    "print(msg.format(0.0516))"
   ]
  },
  {
   "cell_type": "code",
   "execution_count": null,
   "metadata": {},
   "outputs": [],
   "source": []
  },
  {
   "cell_type": "markdown",
   "metadata": {},
   "source": [
    "### Formatted String"
   ]
  },
  {
   "cell_type": "code",
   "execution_count": null,
   "metadata": {},
   "outputs": [],
   "source": [
    "first_name = \"Big\"\n",
    "last_name = \"Bird\""
   ]
  },
  {
   "cell_type": "code",
   "execution_count": 16,
   "metadata": {},
   "outputs": [
    {
     "name": "stdout",
     "output_type": "stream",
     "text": [
      "The main character is {first_name} {last_name}.\n"
     ]
    }
   ],
   "source": [
    "print(\"The main character is {first_name} {last_name}.\")"
   ]
  },
  {
   "cell_type": "code",
   "execution_count": 17,
   "metadata": {},
   "outputs": [
    {
     "name": "stdout",
     "output_type": "stream",
     "text": [
      "The main character is Cookie Monster.\n"
     ]
    }
   ],
   "source": [
    "print(f\"The main character is {first_name} {last_name}.\")"
   ]
  },
  {
   "cell_type": "code",
   "execution_count": 18,
   "metadata": {},
   "outputs": [
    {
     "name": "stdout",
     "output_type": "stream",
     "text": [
      "Amount is $1,234,567.891\n"
     ]
    }
   ],
   "source": [
    "amount = 1234567.89123\n",
    "print(f\"Amount is ${amount:,.3f}\")"
   ]
  },
  {
   "cell_type": "code",
   "execution_count": 19,
   "metadata": {},
   "outputs": [
    {
     "name": "stdout",
     "output_type": "stream",
     "text": [
      "Amount is 123,456,789.123%\n"
     ]
    }
   ],
   "source": [
    "print(f\"Amount is {amount:,.3%}\")"
   ]
  },
  {
   "cell_type": "code",
   "execution_count": 20,
   "metadata": {},
   "outputs": [
    {
     "data": {
      "text/plain": [
       "1234567.89123"
      ]
     },
     "execution_count": 20,
     "metadata": {},
     "output_type": "execute_result"
    }
   ],
   "source": [
    "amount"
   ]
  },
  {
   "cell_type": "code",
   "execution_count": 21,
   "metadata": {},
   "outputs": [
    {
     "name": "stdout",
     "output_type": "stream",
     "text": [
      "Subtotal: $5299.469999999999\n"
     ]
    }
   ],
   "source": [
    "unit_price = 99.99\n",
    "qty = 53\n",
    "print(f\"Subtotal: ${unit_price * qty}\")"
   ]
  },
  {
   "cell_type": "code",
   "execution_count": 22,
   "metadata": {},
   "outputs": [
    {
     "name": "stdout",
     "output_type": "stream",
     "text": [
      "Subtotal: $5,299.469999999999\n"
     ]
    }
   ],
   "source": [
    "print(f\"Subtotal: ${unit_price * qty :,}\")  # commas in thousands place"
   ]
  },
  {
   "cell_type": "code",
   "execution_count": 23,
   "metadata": {},
   "outputs": [
    {
     "name": "stdout",
     "output_type": "stream",
     "text": [
      "Subtotal: $5299.47\n"
     ]
    }
   ],
   "source": [
    "print(f\"Subtotal: ${unit_price * qty :.2f}\") #2 digits after the decimal point"
   ]
  },
  {
   "cell_type": "code",
   "execution_count": 24,
   "metadata": {},
   "outputs": [
    {
     "name": "stdout",
     "output_type": "stream",
     "text": [
      "Subtotal: $5,299.47\n"
     ]
    }
   ],
   "source": [
    "print(f\"Subtotal: ${unit_price * qty :,.2f}\") #in dollar amount format"
   ]
  },
  {
   "cell_type": "code",
   "execution_count": 25,
   "metadata": {},
   "outputs": [
    {
     "name": "stdout",
     "output_type": "stream",
     "text": [
      "123.451\n"
     ]
    }
   ],
   "source": [
    "x = 123.45143\n",
    "print(f\"{x:.3f}\")"
   ]
  },
  {
   "cell_type": "code",
   "execution_count": 26,
   "metadata": {},
   "outputs": [
    {
     "name": "stdout",
     "output_type": "stream",
     "text": [
      "Current rate: 3.26%\n"
     ]
    }
   ],
   "source": [
    "rate = 0.03255    # morgage rate 3.255%\n",
    "print(f\"Current rate: {rate:.2%}\")"
   ]
  },
  {
   "cell_type": "code",
   "execution_count": 27,
   "metadata": {},
   "outputs": [
    {
     "name": "stdout",
     "output_type": "stream",
     "text": [
      "Current rate: 3.255000000%\n"
     ]
    }
   ],
   "source": [
    "print(f\"Current rate: {rate:.9%}\")"
   ]
  },
  {
   "cell_type": "code",
   "execution_count": 28,
   "metadata": {},
   "outputs": [
    {
     "name": "stdout",
     "output_type": "stream",
     "text": [
      "Enter a number:\n",
      ">14\n",
      "Enter next number:\n",
      ">26\n",
      "14 * 26 = 364\n"
     ]
    }
   ],
   "source": [
    "prompt = \">\"\n",
    "print(\"Enter a number:\")\n",
    "numb1 = int(input(prompt))\n",
    "print(\"Enter next number:\")\n",
    "numb2 = int(input(prompt))\n",
    "total = numb1 * numb2\n",
    "print(f\"{numb1} * {numb2} = {total}\")"
   ]
  },
  {
   "cell_type": "code",
   "execution_count": 29,
   "metadata": {},
   "outputs": [
    {
     "name": "stdout",
     "output_type": "stream",
     "text": [
      "14 + 26 = 40\n",
      "14 - 26 = -12\n",
      "14 * 26 = 364\n",
      "14 / 26 = 0.5384615384615384\n"
     ]
    }
   ],
   "source": [
    "print(f\"{numb1} + {numb2} = {numb1 + numb2}\")\n",
    "print(f\"{numb1} - {numb2} = {numb1 - numb2}\")\n",
    "print(f\"{numb1} * {numb2} = {numb1 * numb2}\")\n",
    "print(f\"{numb1} / {numb2} = {numb1 / numb2}\")"
   ]
  },
  {
   "cell_type": "code",
   "execution_count": null,
   "metadata": {},
   "outputs": [],
   "source": []
  },
  {
   "cell_type": "markdown",
   "metadata": {},
   "source": [
    "### Exercise 2\n",
    "Write a program to find out user's annual salary. Then compute user's monthly salary and bi-weekly salary.\n",
    "Display your results in nice formatted output."
   ]
  },
  {
   "cell_type": "markdown",
   "metadata": {},
   "source": [
    "#### Identify IPO\n",
    "\n",
    "input:\n",
    "     User's annual salary   \n",
    "process in pseudocode:\n",
    "     Have the user input their annual salary\n",
    "     Convert their annual salary into an integer\n",
    "     Find their monthly salary, divide the annual salary by 12\n",
    "     Find their biweekly slalary, divide the annualsalary by 26\n",
    "     Print the user's monthly and biweekly salary\n",
    "output:\n",
    "     User's monthly biweekly salary\n"
   ]
  },
  {
   "cell_type": "markdown",
   "metadata": {},
   "source": [
    "#### Convert your pseudocode in to Python code"
   ]
  },
  {
   "cell_type": "code",
   "execution_count": 11,
   "metadata": {},
   "outputs": [
    {
     "name": "stdout",
     "output_type": "stream",
     "text": [
      "Enter your salary: 100000\n",
      "Your monthly salary is $8,333.33\n",
      "Your biweekly salary is $3,846.15\n"
     ]
    }
   ],
   "source": [
    "salary = int(input(\"Enter your salary: \"))\n",
    "\n",
    "monthly = salary / 12\n",
    "biweekly = salary / 26\n",
    "\n",
    "print(f\"Your monthly salary is ${monthly:,.2f}\")\n",
    "print(f\"Your biweekly salary is ${biweekly:,.2f}\")"
   ]
  },
  {
   "cell_type": "code",
   "execution_count": null,
   "metadata": {},
   "outputs": [],
   "source": []
  },
  {
   "cell_type": "markdown",
   "metadata": {},
   "source": [
    "### Scientific Number Notation"
   ]
  },
  {
   "cell_type": "code",
   "execution_count": 1,
   "metadata": {},
   "outputs": [
    {
     "name": "stdout",
     "output_type": "stream",
     "text": [
      "5.800000e+04\n"
     ]
    }
   ],
   "source": [
    "no1 = 58000\n",
    "print(f\"{no1:e}\")"
   ]
  },
  {
   "cell_type": "code",
   "execution_count": 2,
   "metadata": {},
   "outputs": [
    {
     "name": "stdout",
     "output_type": "stream",
     "text": [
      "5.8e+04\n",
      "5.80e+04\n"
     ]
    }
   ],
   "source": [
    "print(f\"{no1:.1e}\")\n",
    "print(f\"{no1:.2e}\")"
   ]
  },
  {
   "cell_type": "code",
   "execution_count": 3,
   "metadata": {},
   "outputs": [
    {
     "name": "stdout",
     "output_type": "stream",
     "text": [
      "1.2e-04\n",
      "1.230e-04\n"
     ]
    }
   ],
   "source": [
    "no2 = 0.000123\n",
    "\n",
    "print(f\"{no2:.1e}\")\n",
    "print(f\"{no2:.3e}\")"
   ]
  },
  {
   "cell_type": "code",
   "execution_count": 4,
   "metadata": {},
   "outputs": [
    {
     "name": "stdout",
     "output_type": "stream",
     "text": [
      "1234.56789\n",
      "1,234.56789\n",
      "1,234.57\n"
     ]
    }
   ],
   "source": [
    "no3 = 1.23456789e3  #1234.56789\n",
    "print(f\"{no3}\")\n",
    "print(f\"{no3:,}\")\n",
    "print(f\"{no3:,.2f}\")"
   ]
  },
  {
   "cell_type": "code",
   "execution_count": 5,
   "metadata": {},
   "outputs": [
    {
     "name": "stdout",
     "output_type": "stream",
     "text": [
      "0.00123456\n",
      "0.00123456\n",
      "0.001\n",
      "0.00\n"
     ]
    }
   ],
   "source": [
    "no3 = 1.23456e-3    #0.00123456\n",
    "print(f\"{no3}\")\n",
    "print(f\"{no3:,}\")\n",
    "print(f\"{no3:,.3f}\")\n",
    "print(f\"{no3:,.2f}\")"
   ]
  },
  {
   "cell_type": "code",
   "execution_count": 6,
   "metadata": {},
   "outputs": [
    {
     "name": "stdout",
     "output_type": "stream",
     "text": [
      "0.009\n"
     ]
    }
   ],
   "source": [
    "no3 = 9e-3\n",
    "print(f\"{no3}\")"
   ]
  },
  {
   "cell_type": "code",
   "execution_count": 7,
   "metadata": {},
   "outputs": [
    {
     "name": "stdout",
     "output_type": "stream",
     "text": [
      "9000.0\n"
     ]
    }
   ],
   "source": [
    "no3 = 9e3\n",
    "print(f\"{no3}\")"
   ]
  },
  {
   "cell_type": "markdown",
   "metadata": {},
   "source": [
    "### Exercise 3\n"
   ]
  },
  {
   "cell_type": "code",
   "execution_count": 10,
   "metadata": {},
   "outputs": [
    {
     "name": "stdout",
     "output_type": "stream",
     "text": [
      "6.2e+05\n"
     ]
    }
   ],
   "source": [
    "# 1. Write 620000 in a scientific number notation\n",
    "# 6.2e+5\n",
    "noc = 620000\n",
    "print(f\"{620000:.1e}\")"
   ]
  },
  {
   "cell_type": "code",
   "execution_count": 11,
   "metadata": {},
   "outputs": [
    {
     "name": "stdout",
     "output_type": "stream",
     "text": [
      "9.1e-03\n"
     ]
    }
   ],
   "source": [
    "# 2. write 0.0091 in a scientific number notation\n",
    "# 9.1e-3\n",
    "\n",
    "print(f\"{0.0091:.1e}\")"
   ]
  },
  {
   "cell_type": "code",
   "execution_count": null,
   "metadata": {},
   "outputs": [],
   "source": []
  },
  {
   "cell_type": "markdown",
   "metadata": {},
   "source": [
    "### Exercise 4\n"
   ]
  },
  {
   "cell_type": "markdown",
   "metadata": {},
   "source": [
    "#### 1. Convert 217 to a binary number using FLOOR-DIVISION and MOD arithmetic operations\n"
   ]
  },
  {
   "cell_type": "code",
   "execution_count": 12,
   "metadata": {},
   "outputs": [
    {
     "name": "stdout",
     "output_type": "stream",
     "text": [
      "108\n",
      "1\n"
     ]
    }
   ],
   "source": [
    "# 2 to the power of 7 \n",
    "print(217 // 2)\n",
    "print(217 % 2)"
   ]
  },
  {
   "cell_type": "code",
   "execution_count": 14,
   "metadata": {},
   "outputs": [
    {
     "name": "stdout",
     "output_type": "stream",
     "text": [
      "54\n",
      "0\n"
     ]
    }
   ],
   "source": [
    "# power of 6\n",
    "print(108 //2)\n",
    "print(108 % 2)"
   ]
  },
  {
   "cell_type": "code",
   "execution_count": 15,
   "metadata": {},
   "outputs": [
    {
     "name": "stdout",
     "output_type": "stream",
     "text": [
      "27\n",
      "0\n"
     ]
    }
   ],
   "source": [
    "# power of 5\n",
    "print(54 // 2)\n",
    "print(54 % 2)"
   ]
  },
  {
   "cell_type": "code",
   "execution_count": 16,
   "metadata": {},
   "outputs": [
    {
     "name": "stdout",
     "output_type": "stream",
     "text": [
      "13\n",
      "1\n"
     ]
    }
   ],
   "source": [
    "# power of 4\n",
    "print(27 // 2)\n",
    "print(27 % 2)"
   ]
  },
  {
   "cell_type": "code",
   "execution_count": 17,
   "metadata": {},
   "outputs": [
    {
     "name": "stdout",
     "output_type": "stream",
     "text": [
      "6\n",
      "1\n"
     ]
    }
   ],
   "source": [
    "# power of 3\n",
    "print(13 // 2)\n",
    "print(13 % 2)"
   ]
  },
  {
   "cell_type": "code",
   "execution_count": 18,
   "metadata": {},
   "outputs": [
    {
     "name": "stdout",
     "output_type": "stream",
     "text": [
      "3\n",
      "0\n"
     ]
    }
   ],
   "source": [
    "# power of 2\n",
    "print(6 // 2)\n",
    "print(6 % 2)"
   ]
  },
  {
   "cell_type": "code",
   "execution_count": 19,
   "metadata": {},
   "outputs": [
    {
     "name": "stdout",
     "output_type": "stream",
     "text": [
      "1\n",
      "1\n"
     ]
    }
   ],
   "source": [
    "# power of 1\n",
    "print(3 // 2)\n",
    "print(3 % 2)"
   ]
  },
  {
   "cell_type": "code",
   "execution_count": 20,
   "metadata": {},
   "outputs": [
    {
     "name": "stdout",
     "output_type": "stream",
     "text": [
      "0\n",
      "1\n"
     ]
    }
   ],
   "source": [
    "# power of 0\n",
    "print(1 // 2)\n",
    "print(1 % 2)"
   ]
  },
  {
   "cell_type": "code",
   "execution_count": 13,
   "metadata": {},
   "outputs": [
    {
     "data": {
      "text/plain": [
       "'0b11011001'"
      ]
     },
     "execution_count": 13,
     "metadata": {},
     "output_type": "execute_result"
    }
   ],
   "source": [
    "# Now, assemble your answer\n",
    "bin(217)"
   ]
  },
  {
   "cell_type": "markdown",
   "metadata": {},
   "source": [
    "#### 2. Convert 0b1110 0011 to a decimal number\n"
   ]
  },
  {
   "cell_type": "code",
   "execution_count": 7,
   "metadata": {},
   "outputs": [
    {
     "name": "stdout",
     "output_type": "stream",
     "text": [
      "128\n"
     ]
    }
   ],
   "source": [
    "# 2 to the power of 7\n",
    "power7 = 1 * (2**7)\n",
    "print(power7)"
   ]
  },
  {
   "cell_type": "code",
   "execution_count": 8,
   "metadata": {},
   "outputs": [
    {
     "name": "stdout",
     "output_type": "stream",
     "text": [
      "64\n"
     ]
    }
   ],
   "source": [
    "# power of 6\n",
    "power6 = 1 * (2**6)\n",
    "print(power6)"
   ]
  },
  {
   "cell_type": "code",
   "execution_count": 9,
   "metadata": {},
   "outputs": [
    {
     "name": "stdout",
     "output_type": "stream",
     "text": [
      "32\n"
     ]
    }
   ],
   "source": [
    "# power of 5\n",
    "power5 = 1 * (2**5) \n",
    "print(power5)"
   ]
  },
  {
   "cell_type": "code",
   "execution_count": 10,
   "metadata": {},
   "outputs": [
    {
     "name": "stdout",
     "output_type": "stream",
     "text": [
      "0\n"
     ]
    }
   ],
   "source": [
    "# power of 4\n",
    "power4 = 0 * (2**4)\n",
    "print(power4)"
   ]
  },
  {
   "cell_type": "code",
   "execution_count": 11,
   "metadata": {},
   "outputs": [
    {
     "name": "stdout",
     "output_type": "stream",
     "text": [
      "0\n"
     ]
    }
   ],
   "source": [
    "# power of 3\n",
    "power3 = 0 * (2**3)\n",
    "print(power3)"
   ]
  },
  {
   "cell_type": "code",
   "execution_count": 12,
   "metadata": {},
   "outputs": [
    {
     "name": "stdout",
     "output_type": "stream",
     "text": [
      "0\n"
     ]
    }
   ],
   "source": [
    "# power of 2\n",
    "power2 = 0 * (2**2)\n",
    "print(power2)"
   ]
  },
  {
   "cell_type": "code",
   "execution_count": 13,
   "metadata": {},
   "outputs": [
    {
     "name": "stdout",
     "output_type": "stream",
     "text": [
      "4\n"
     ]
    }
   ],
   "source": [
    "# power of 1\n",
    "power1 = 1 * (2**2)\n",
    "print(power1)"
   ]
  },
  {
   "cell_type": "code",
   "execution_count": 14,
   "metadata": {},
   "outputs": [
    {
     "name": "stdout",
     "output_type": "stream",
     "text": [
      "0\n"
     ]
    }
   ],
   "source": [
    "# power of 0\n",
    "power0 = 0 * (2**0)\n",
    "print(power0)"
   ]
  },
  {
   "cell_type": "code",
   "execution_count": 15,
   "metadata": {},
   "outputs": [
    {
     "name": "stdout",
     "output_type": "stream",
     "text": [
      "228\n"
     ]
    }
   ],
   "source": [
    "# Now, assemble your answer\n",
    "answer = power7 + power6 + power5 + power4 + power3 + power2 + power1 + power0\n",
    "print(answer)"
   ]
  },
  {
   "cell_type": "code",
   "execution_count": null,
   "metadata": {},
   "outputs": [],
   "source": []
  },
  {
   "cell_type": "markdown",
   "metadata": {},
   "source": [
    "### Use Data Type Casting"
   ]
  },
  {
   "cell_type": "code",
   "execution_count": 22,
   "metadata": {},
   "outputs": [
    {
     "data": {
      "text/plain": [
       "2101769"
      ]
     },
     "execution_count": 22,
     "metadata": {},
     "output_type": "execute_result"
    }
   ],
   "source": [
    "numb = 0o10011011\n",
    "int(numb)"
   ]
  },
  {
   "cell_type": "code",
   "execution_count": null,
   "metadata": {},
   "outputs": [],
   "source": [
    "int(0b10011011)"
   ]
  },
  {
   "cell_type": "code",
   "execution_count": null,
   "metadata": {},
   "outputs": [],
   "source": [
    "bin(155)"
   ]
  },
  {
   "cell_type": "code",
   "execution_count": null,
   "metadata": {},
   "outputs": [],
   "source": [
    "type(bin(153))"
   ]
  },
  {
   "cell_type": "code",
   "execution_count": null,
   "metadata": {},
   "outputs": [],
   "source": [
    "numb = 0o01234567\n",
    "int(numb)"
   ]
  },
  {
   "cell_type": "code",
   "execution_count": null,
   "metadata": {},
   "outputs": [],
   "source": [
    "oct(342391)"
   ]
  },
  {
   "cell_type": "code",
   "execution_count": null,
   "metadata": {},
   "outputs": [],
   "source": [
    "numb = 153\n",
    "hex(153)"
   ]
  },
  {
   "cell_type": "code",
   "execution_count": null,
   "metadata": {},
   "outputs": [],
   "source": [
    "int(\"0b10011011\", 2)"
   ]
  },
  {
   "cell_type": "code",
   "execution_count": null,
   "metadata": {},
   "outputs": [],
   "source": [
    "int(\"0o10011011\", 8)"
   ]
  },
  {
   "cell_type": "code",
   "execution_count": 23,
   "metadata": {},
   "outputs": [
    {
     "data": {
      "text/plain": [
       "342391"
      ]
     },
     "execution_count": 23,
     "metadata": {},
     "output_type": "execute_result"
    }
   ],
   "source": [
    "int(\"0o1234567\", 8)"
   ]
  },
  {
   "cell_type": "code",
   "execution_count": null,
   "metadata": {},
   "outputs": [],
   "source": [
    "int(0x20b)"
   ]
  },
  {
   "cell_type": "code",
   "execution_count": null,
   "metadata": {},
   "outputs": [],
   "source": [
    "int(\"1011\", 2)"
   ]
  },
  {
   "cell_type": "code",
   "execution_count": null,
   "metadata": {},
   "outputs": [],
   "source": [
    "int(\"1011\", 8)"
   ]
  },
  {
   "cell_type": "code",
   "execution_count": 25,
   "metadata": {},
   "outputs": [
    {
     "data": {
      "text/plain": [
       "4113"
      ]
     },
     "execution_count": 25,
     "metadata": {},
     "output_type": "execute_result"
    }
   ],
   "source": [
    "int(\"1011\", 16)"
   ]
  },
  {
   "cell_type": "code",
   "execution_count": 24,
   "metadata": {},
   "outputs": [
    {
     "name": "stdout",
     "output_type": "stream",
     "text": [
      "Binary 1011 is integer 11\n",
      "Octal 1011 is integer 521\n",
      "Hexa 1011 is integer 4113\n"
     ]
    }
   ],
   "source": [
    "numb = \"1011\"\n",
    "print(f\"Binary {numb} is integer {int(numb, 2)}\\nOctal {numb} is integer {int(numb, 8)}\\nHexa {numb} is integer {int(numb,16)}\")"
   ]
  },
  {
   "cell_type": "code",
   "execution_count": null,
   "metadata": {},
   "outputs": [],
   "source": []
  }
 ],
 "metadata": {
  "kernelspec": {
   "display_name": "Python 3",
   "language": "python",
   "name": "python3"
  },
  "language_info": {
   "codemirror_mode": {
    "name": "ipython",
    "version": 3
   },
   "file_extension": ".py",
   "mimetype": "text/x-python",
   "name": "python",
   "nbconvert_exporter": "python",
   "pygments_lexer": "ipython3",
   "version": "3.8.8"
  }
 },
 "nbformat": 4,
 "nbformat_minor": 4
}
